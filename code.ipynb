{
  "nbformat": 4,
  "nbformat_minor": 0,
  "metadata": {
    "colab": {
      "name": "A1_SC.ipynb",
      "provenance": []
    },
    "kernelspec": {
      "name": "python3",
      "display_name": "Python 3"
    },
    "language_info": {
      "name": "python"
    },
    "accelerator": "GPU"
  },
  "cells": [
    {
      "cell_type": "code",
      "source": [
        "import tensorflow as tf\n",
        "import numpy as np\n",
        "import torch.optim as optim\n",
        "import pandas as pd\n",
        "import glob\n",
        "from glob import glob\n",
        "import numpy as np\n",
        "from sklearn.metrics import accuracy_score\n",
        "from sklearn.metrics import precision_score \n",
        "from sklearn.metrics import f1_score \n",
        "from sklearn.metrics import recall_score "
      ],
      "metadata": {
        "id": "67eUHoXOXZ3E"
      },
      "execution_count": 1,
      "outputs": []
    },
    {
      "cell_type": "code",
      "execution_count": 2,
      "metadata": {
        "colab": {
          "base_uri": "https://localhost:8080/"
        },
        "id": "b_uY9mzwXJWE",
        "outputId": "0642417c-8188-4b9e-e047-ee8e91a23782"
      },
      "outputs": [
        {
          "output_type": "stream",
          "name": "stdout",
          "text": [
            "Drive already mounted at /content/drive/; to attempt to forcibly remount, call drive.mount(\"/content/drive/\", force_remount=True).\n"
          ]
        }
      ],
      "source": [
        "from google.colab import drive\n",
        "drive.mount('/content/drive/')"
      ]
    },
    {
      "cell_type": "code",
      "source": [
        "dataset_dir='/content/drive/MyDrive/Documents/SClab/Assignment-1/imagery'\n",
        "CLASS = [x.split(\"/\")[-1] for x in glob(dataset_dir+'/*')]"
      ],
      "metadata": {
        "id": "4dqvhoGOXNbt"
      },
      "execution_count": 3,
      "outputs": []
    },
    {
      "cell_type": "code",
      "source": [
        "import cv2\n",
        "import os\n",
        "train_images = []\n",
        "def load_images_from_folder(folder,label):\n",
        "   \n",
        "    for filename in os.listdir(folder):\n",
        "        img = cv2.imread(os.path.join(folder,filename))\n",
        "        resized_img = cv2.resize(img, (48, 48))\n",
        "        if img is not None:\n",
        "            train_images.append([resized_img,label])\n",
        "   \n",
        "for classes in CLASS:\n",
        "    folder=os.path.join(dataset_dir,classes) \n",
        "    load_images_from_folder(folder,classes)    "
      ],
      "metadata": {
        "id": "99aqwNUyaKOs"
      },
      "execution_count": 4,
      "outputs": []
    },
    {
      "cell_type": "code",
      "source": [
        "x=[]\n",
        "y=[]\n",
        "for item in train_images:\n",
        "    x.append(item[0])\n",
        "    y.append(item[1])\n",
        "x=np.array(x)\n",
        "y=np.array(y)\n"
      ],
      "metadata": {
        "id": "YxHu6CUxc2w8"
      },
      "execution_count": 5,
      "outputs": []
    },
    {
      "cell_type": "code",
      "source": [
        "from sklearn import preprocessing\n",
        "le = preprocessing.LabelEncoder()\n",
        "le.fit(y)\n",
        "y=le.transform(y)\n",
        "y=tf.keras.utils.to_categorical(y)"
      ],
      "metadata": {
        "id": "3YiNlh3-k0kn"
      },
      "execution_count": 6,
      "outputs": []
    },
    {
      "cell_type": "code",
      "source": [
        " x_new=[]\n",
        " for item in x:\n",
        "   x_new.append(item.ravel())\n",
        " x_new=np.array(x_new)   \n",
        " x_new.shape[1]"
      ],
      "metadata": {
        "colab": {
          "base_uri": "https://localhost:8080/"
        },
        "id": "PtvbiLgSeVq2",
        "outputId": "a83c6b43-bdda-4fa6-d284-db9d87942bf6"
      },
      "execution_count": 7,
      "outputs": [
        {
          "output_type": "execute_result",
          "data": {
            "text/plain": [
              "6912"
            ]
          },
          "metadata": {},
          "execution_count": 7
        }
      ]
    },
    {
      "cell_type": "code",
      "source": [
        "# Splitting the dataset into the Training set and Test set\n",
        "from sklearn.model_selection import train_test_split\n",
        "X_train, X_test, y_train, y_test = train_test_split(x_new, y, test_size = 0.2, random_state = 0)"
      ],
      "metadata": {
        "id": "XqE_woiYqZSk"
      },
      "execution_count": 19,
      "outputs": []
    },
    {
      "cell_type": "code",
      "source": [
        "X_train.shape"
      ],
      "metadata": {
        "colab": {
          "base_uri": "https://localhost:8080/"
        },
        "id": "ex3hQIRvpuoT",
        "outputId": "aa3e7f1c-583d-498d-e4c2-99a8adb6a71d"
      },
      "execution_count": 9,
      "outputs": [
        {
          "output_type": "execute_result",
          "data": {
            "text/plain": [
              "(3585, 6912)"
            ]
          },
          "metadata": {},
          "execution_count": 9
        }
      ]
    },
    {
      "cell_type": "markdown",
      "source": [
        "Neural Network"
      ],
      "metadata": {
        "id": "TXkvEo4e0A6P"
      }
    },
    {
      "cell_type": "code",
      "source": [
        "from tensorflow.keras.layers import Dense,Dropout,Activation,Flatten\n",
        "# Initializing the ANN\n",
        "ann = tf.keras.models.Sequential()\n",
        "\n",
        "# Adding the input layer \n",
        "ann.add(tf.keras.layers.Dense(units=100, activation='relu',input_shape=(6912,)))\n",
        "ann.add(Dropout(0.5))\n",
        "# Adding the first hidden layer\n",
        "ann.add(tf.keras.layers.Dense(units=100, activation='relu'))\n",
        "ann.add(Dropout(0.4))\n",
        "# Adding the second hidden layer\n",
        "ann.add(tf.keras.layers.Dense(units=100, activation='relu'))\n",
        "ann.add(Dropout(0.4))\n",
        "# Adding the third hidden layer\n",
        "ann.add(tf.keras.layers.Dense(units=100, activation='relu'))\n",
        "ann.add(Dropout(0.4))\n",
        "# Adding the four hidden layer\n",
        "ann.add(tf.keras.layers.Dense(units=100, activation='relu'))\n",
        "ann.add(Dropout(0.4))\n",
        "# Adding the fifth hidden layer\n",
        "ann.add(tf.keras.layers.Dense(units=100, activation='relu'))\n",
        "ann.add(Dropout(0.3))\n",
        "# Adding the output layer\n",
        "ann.add(tf.keras.layers.Dense(units=4, activation='softmax'))\n",
        "\n",
        "# Part 3 - Training the ANN\n",
        "\n",
        "# Compiling the ANN\n",
        "optimizer = tf.keras.optimizers.RMSprop(learning_rate=0.001)\n",
        "ann.compile(optimizer = optimizer, loss = 'categorical_crossentropy', metrics = ['accuracy'])\n",
        "\n",
        "# Training the ANN on the Training set\n",
        "hist=ann.fit(X_train, y_train, batch_size = 20, epochs = 100)\n",
        "\n",
        "# Predicting the Test set results\n",
        "accuracy=ann.evaluate(X_test,y_test)[1]\n",
        "print(accuracy)"
      ],
      "metadata": {
        "id": "8BIFlpgep6P2",
        "colab": {
          "base_uri": "https://localhost:8080/"
        },
        "outputId": "b1b0216f-6a86-489f-8cdc-f70e946efa32"
      },
      "execution_count": 22,
      "outputs": [
        {
          "output_type": "stream",
          "name": "stdout",
          "text": [
            "Epoch 1/100\n",
            "180/180 [==============================] - 2s 7ms/step - loss: 15.5981 - accuracy: 0.6377\n",
            "Epoch 2/100\n",
            "180/180 [==============================] - 1s 7ms/step - loss: 1.0401 - accuracy: 0.6644\n",
            "Epoch 3/100\n",
            "180/180 [==============================] - 1s 7ms/step - loss: 1.1572 - accuracy: 0.6650\n",
            "Epoch 4/100\n",
            "180/180 [==============================] - 1s 7ms/step - loss: 1.0984 - accuracy: 0.6664\n",
            "Epoch 5/100\n",
            "180/180 [==============================] - 1s 7ms/step - loss: 1.0753 - accuracy: 0.6647\n",
            "Epoch 6/100\n",
            "180/180 [==============================] - 1s 7ms/step - loss: 0.9702 - accuracy: 0.6644\n",
            "Epoch 7/100\n",
            "180/180 [==============================] - 1s 7ms/step - loss: 1.0377 - accuracy: 0.6653\n",
            "Epoch 8/100\n",
            "180/180 [==============================] - 1s 8ms/step - loss: 0.9444 - accuracy: 0.6653\n",
            "Epoch 9/100\n",
            "180/180 [==============================] - 1s 7ms/step - loss: 1.4667 - accuracy: 0.6647\n",
            "Epoch 10/100\n",
            "180/180 [==============================] - 1s 7ms/step - loss: 1.3458 - accuracy: 0.6653\n",
            "Epoch 11/100\n",
            "180/180 [==============================] - 1s 7ms/step - loss: 1.2425 - accuracy: 0.6653\n",
            "Epoch 12/100\n",
            "180/180 [==============================] - 1s 7ms/step - loss: 1.3072 - accuracy: 0.6653\n",
            "Epoch 13/100\n",
            "180/180 [==============================] - 1s 7ms/step - loss: 0.9071 - accuracy: 0.6653\n",
            "Epoch 14/100\n",
            "180/180 [==============================] - 1s 7ms/step - loss: 1.0443 - accuracy: 0.6650\n",
            "Epoch 15/100\n",
            "180/180 [==============================] - 1s 7ms/step - loss: 0.9589 - accuracy: 0.6650\n",
            "Epoch 16/100\n",
            "180/180 [==============================] - 1s 7ms/step - loss: 1.1186 - accuracy: 0.6650\n",
            "Epoch 17/100\n",
            "180/180 [==============================] - 1s 7ms/step - loss: 1.0239 - accuracy: 0.6633\n",
            "Epoch 18/100\n",
            "180/180 [==============================] - 1s 7ms/step - loss: 1.5644 - accuracy: 0.6644\n",
            "Epoch 19/100\n",
            "180/180 [==============================] - 1s 7ms/step - loss: 0.9061 - accuracy: 0.6647\n",
            "Epoch 20/100\n",
            "180/180 [==============================] - 1s 7ms/step - loss: 1.0019 - accuracy: 0.6642\n",
            "Epoch 21/100\n",
            "180/180 [==============================] - 1s 7ms/step - loss: 1.1990 - accuracy: 0.6639\n",
            "Epoch 22/100\n",
            "180/180 [==============================] - 1s 8ms/step - loss: 0.8708 - accuracy: 0.6647\n",
            "Epoch 23/100\n",
            "180/180 [==============================] - 2s 11ms/step - loss: 0.8317 - accuracy: 0.6647\n",
            "Epoch 24/100\n",
            "180/180 [==============================] - 1s 8ms/step - loss: 1.1104 - accuracy: 0.6647\n",
            "Epoch 25/100\n",
            "180/180 [==============================] - 1s 7ms/step - loss: 0.8272 - accuracy: 0.6644\n",
            "Epoch 26/100\n",
            "180/180 [==============================] - 1s 7ms/step - loss: 1.6641 - accuracy: 0.6628\n",
            "Epoch 27/100\n",
            "180/180 [==============================] - 1s 7ms/step - loss: 0.9136 - accuracy: 0.6642\n",
            "Epoch 28/100\n",
            "180/180 [==============================] - 1s 7ms/step - loss: 1.1147 - accuracy: 0.6653\n",
            "Epoch 29/100\n",
            "180/180 [==============================] - 1s 7ms/step - loss: 1.0318 - accuracy: 0.6639\n",
            "Epoch 30/100\n",
            "180/180 [==============================] - 1s 7ms/step - loss: 0.8179 - accuracy: 0.6650\n",
            "Epoch 31/100\n",
            "180/180 [==============================] - 1s 7ms/step - loss: 1.7736 - accuracy: 0.6644\n",
            "Epoch 32/100\n",
            "180/180 [==============================] - 1s 7ms/step - loss: 0.8397 - accuracy: 0.6650\n",
            "Epoch 33/100\n",
            "180/180 [==============================] - 1s 7ms/step - loss: 1.8096 - accuracy: 0.6644\n",
            "Epoch 34/100\n",
            "180/180 [==============================] - 1s 7ms/step - loss: 0.8616 - accuracy: 0.6642\n",
            "Epoch 35/100\n",
            "180/180 [==============================] - 1s 7ms/step - loss: 2.8226 - accuracy: 0.6647\n",
            "Epoch 36/100\n",
            "180/180 [==============================] - 1s 7ms/step - loss: 0.8421 - accuracy: 0.6644\n",
            "Epoch 37/100\n",
            "180/180 [==============================] - 1s 7ms/step - loss: 1.0934 - accuracy: 0.6653\n",
            "Epoch 38/100\n",
            "180/180 [==============================] - 1s 7ms/step - loss: 0.7282 - accuracy: 0.6644\n",
            "Epoch 39/100\n",
            "180/180 [==============================] - 1s 7ms/step - loss: 1.5118 - accuracy: 0.6630\n",
            "Epoch 40/100\n",
            "180/180 [==============================] - 1s 7ms/step - loss: 0.7475 - accuracy: 0.6650\n",
            "Epoch 41/100\n",
            "180/180 [==============================] - 1s 7ms/step - loss: 0.7540 - accuracy: 0.6653\n",
            "Epoch 42/100\n",
            "180/180 [==============================] - 1s 7ms/step - loss: 2.7538 - accuracy: 0.6630\n",
            "Epoch 43/100\n",
            "180/180 [==============================] - 1s 7ms/step - loss: 1.3902 - accuracy: 0.6653\n",
            "Epoch 44/100\n",
            "180/180 [==============================] - 1s 7ms/step - loss: 1.8467 - accuracy: 0.6650\n",
            "Epoch 45/100\n",
            "180/180 [==============================] - 1s 7ms/step - loss: 0.8030 - accuracy: 0.6644\n",
            "Epoch 46/100\n",
            "180/180 [==============================] - 1s 7ms/step - loss: 1.1067 - accuracy: 0.6647\n",
            "Epoch 47/100\n",
            "180/180 [==============================] - 1s 7ms/step - loss: 1.0011 - accuracy: 0.6653\n",
            "Epoch 48/100\n",
            "180/180 [==============================] - 1s 7ms/step - loss: 3.2523 - accuracy: 0.6650\n",
            "Epoch 49/100\n",
            "180/180 [==============================] - 1s 7ms/step - loss: 3.3222 - accuracy: 0.6647\n",
            "Epoch 50/100\n",
            "180/180 [==============================] - 1s 7ms/step - loss: 0.9510 - accuracy: 0.6647\n",
            "Epoch 51/100\n",
            "180/180 [==============================] - 1s 7ms/step - loss: 0.7639 - accuracy: 0.6650\n",
            "Epoch 52/100\n",
            "180/180 [==============================] - 1s 7ms/step - loss: 0.8905 - accuracy: 0.6636\n",
            "Epoch 53/100\n",
            "180/180 [==============================] - 1s 7ms/step - loss: 1.3248 - accuracy: 0.6644\n",
            "Epoch 54/100\n",
            "180/180 [==============================] - 1s 7ms/step - loss: 0.8366 - accuracy: 0.6647\n",
            "Epoch 55/100\n",
            "180/180 [==============================] - 1s 7ms/step - loss: 1.3782 - accuracy: 0.6650\n",
            "Epoch 56/100\n",
            "180/180 [==============================] - 1s 7ms/step - loss: 0.7152 - accuracy: 0.6650\n",
            "Epoch 57/100\n",
            "180/180 [==============================] - 1s 7ms/step - loss: 0.9481 - accuracy: 0.6647\n",
            "Epoch 58/100\n",
            "180/180 [==============================] - 1s 7ms/step - loss: 0.8894 - accuracy: 0.6619\n",
            "Epoch 59/100\n",
            "180/180 [==============================] - 1s 7ms/step - loss: 1.1475 - accuracy: 0.6644\n",
            "Epoch 60/100\n",
            "180/180 [==============================] - 1s 7ms/step - loss: 0.6954 - accuracy: 0.6639\n",
            "Epoch 61/100\n",
            "180/180 [==============================] - 1s 7ms/step - loss: 1.7143 - accuracy: 0.6647\n",
            "Epoch 62/100\n",
            "180/180 [==============================] - 1s 7ms/step - loss: 1.6252 - accuracy: 0.6642\n",
            "Epoch 63/100\n",
            "180/180 [==============================] - 1s 7ms/step - loss: 0.7821 - accuracy: 0.6622\n",
            "Epoch 64/100\n",
            "180/180 [==============================] - 1s 7ms/step - loss: 1.0735 - accuracy: 0.6647\n",
            "Epoch 65/100\n",
            "180/180 [==============================] - 1s 7ms/step - loss: 0.6917 - accuracy: 0.6653\n",
            "Epoch 66/100\n",
            "180/180 [==============================] - 1s 7ms/step - loss: 0.7678 - accuracy: 0.6630\n",
            "Epoch 67/100\n",
            "180/180 [==============================] - 1s 7ms/step - loss: 1.0421 - accuracy: 0.6630\n",
            "Epoch 68/100\n",
            "180/180 [==============================] - 1s 7ms/step - loss: 0.7781 - accuracy: 0.6639\n",
            "Epoch 69/100\n",
            "180/180 [==============================] - 1s 7ms/step - loss: 1.3892 - accuracy: 0.6625\n",
            "Epoch 70/100\n",
            "180/180 [==============================] - 1s 7ms/step - loss: 0.7329 - accuracy: 0.6642\n",
            "Epoch 71/100\n",
            "180/180 [==============================] - 1s 7ms/step - loss: 0.8997 - accuracy: 0.6658\n",
            "Epoch 72/100\n",
            "180/180 [==============================] - 1s 7ms/step - loss: 2.2136 - accuracy: 0.6650\n",
            "Epoch 73/100\n",
            "180/180 [==============================] - 1s 7ms/step - loss: 0.6762 - accuracy: 0.6644\n",
            "Epoch 74/100\n",
            "180/180 [==============================] - 1s 7ms/step - loss: 0.6476 - accuracy: 0.6625\n",
            "Epoch 75/100\n",
            "180/180 [==============================] - 1s 7ms/step - loss: 1.0015 - accuracy: 0.6642\n",
            "Epoch 76/100\n",
            "180/180 [==============================] - 1s 7ms/step - loss: 2.6801 - accuracy: 0.6633\n",
            "Epoch 77/100\n",
            "180/180 [==============================] - 1s 7ms/step - loss: 2.2209 - accuracy: 0.6636\n",
            "Epoch 78/100\n",
            "180/180 [==============================] - 1s 7ms/step - loss: 0.6881 - accuracy: 0.6642\n",
            "Epoch 79/100\n",
            "180/180 [==============================] - 1s 7ms/step - loss: 1.6565 - accuracy: 0.6628\n",
            "Epoch 80/100\n",
            "180/180 [==============================] - 1s 7ms/step - loss: 0.7734 - accuracy: 0.6639\n",
            "Epoch 81/100\n",
            "180/180 [==============================] - 1s 7ms/step - loss: 0.7452 - accuracy: 0.6653\n",
            "Epoch 82/100\n",
            "180/180 [==============================] - 1s 7ms/step - loss: 3.3198 - accuracy: 0.6608\n",
            "Epoch 83/100\n",
            "180/180 [==============================] - 1s 7ms/step - loss: 0.9053 - accuracy: 0.6653\n",
            "Epoch 84/100\n",
            "180/180 [==============================] - 1s 7ms/step - loss: 0.7192 - accuracy: 0.6642\n",
            "Epoch 85/100\n",
            "180/180 [==============================] - 1s 7ms/step - loss: 0.7146 - accuracy: 0.6647\n",
            "Epoch 86/100\n",
            "180/180 [==============================] - 1s 7ms/step - loss: 1.2089 - accuracy: 0.6639\n",
            "Epoch 87/100\n",
            "180/180 [==============================] - 1s 7ms/step - loss: 0.6922 - accuracy: 0.6650\n",
            "Epoch 88/100\n",
            "180/180 [==============================] - 1s 7ms/step - loss: 2.5492 - accuracy: 0.6628\n",
            "Epoch 89/100\n",
            "180/180 [==============================] - 2s 9ms/step - loss: 0.6861 - accuracy: 0.6647\n",
            "Epoch 90/100\n",
            "180/180 [==============================] - 2s 9ms/step - loss: 1.3572 - accuracy: 0.6644\n",
            "Epoch 91/100\n",
            "180/180 [==============================] - 1s 7ms/step - loss: 0.7083 - accuracy: 0.6647\n",
            "Epoch 92/100\n",
            "180/180 [==============================] - 1s 7ms/step - loss: 0.7126 - accuracy: 0.6650\n",
            "Epoch 93/100\n",
            "180/180 [==============================] - 1s 7ms/step - loss: 1.8224 - accuracy: 0.6644\n",
            "Epoch 94/100\n",
            "180/180 [==============================] - 1s 7ms/step - loss: 1.7452 - accuracy: 0.6642\n",
            "Epoch 95/100\n",
            "180/180 [==============================] - 1s 7ms/step - loss: 0.7908 - accuracy: 0.6650\n",
            "Epoch 96/100\n",
            "180/180 [==============================] - 1s 7ms/step - loss: 0.6542 - accuracy: 0.6653\n",
            "Epoch 97/100\n",
            "180/180 [==============================] - 1s 7ms/step - loss: 5.3589 - accuracy: 0.6636\n",
            "Epoch 98/100\n",
            "180/180 [==============================] - 1s 7ms/step - loss: 0.6659 - accuracy: 0.6647\n",
            "Epoch 99/100\n",
            "180/180 [==============================] - 1s 7ms/step - loss: 0.7380 - accuracy: 0.6642\n",
            "Epoch 100/100\n",
            "180/180 [==============================] - 1s 7ms/step - loss: 3.0325 - accuracy: 0.6625\n",
            "29/29 [==============================] - 0s 4ms/step - loss: 0.4445 - accuracy: 0.6845\n",
            "0.6845039129257202\n"
          ]
        }
      ]
    },
    {
      "cell_type": "code",
      "source": [
        "import matplotlib.pyplot as plt\n",
        "loss_train = hist.history['loss']\n",
        "Iteration = range(1,101)\n",
        "plt.plot(Iteration, loss_train, 'g', label='Training loss')\n",
        "plt.xlabel('Iteration')\n",
        "plt.ylabel('Loss')\n",
        "plt.legend()\n",
        "plt.show()"
      ],
      "metadata": {
        "id": "rleCMpyY6Avf",
        "colab": {
          "base_uri": "https://localhost:8080/",
          "height": 279
        },
        "outputId": "511368b0-de01-488a-902b-a23fb4255c26"
      },
      "execution_count": 24,
      "outputs": [
        {
          "output_type": "display_data",
          "data": {
            "image/png": "[encoded data removed]",
            "text/plain": [
              "<Figure size 432x288 with 1 Axes>"
            ]
          },
          "metadata": {
            "needs_background": "light"
          }
        }
      ]
    },
    {
      "cell_type": "markdown",
      "source": [
        "CNN"
      ],
      "metadata": {
        "id": "C0t4gC6y0D3Y"
      }
    },
    {
      "cell_type": "code",
      "source": [
        "# Splitting the dataset into the Training set and Test set\n",
        "from sklearn.model_selection import train_test_split\n",
        "X_train, X_test, y_train, y_test = train_test_split(x, y, test_size = 0.2, random_state = 0)"
      ],
      "metadata": {
        "id": "0R50oOHM-GOj"
      },
      "execution_count": 25,
      "outputs": []
    },
    {
      "cell_type": "code",
      "source": [
        "# Initialising the CNN\n",
        "cnn = tf.keras.models.Sequential()\n",
        "\n",
        "# Step 1 - Convolution\n",
        "cnn.add(tf.keras.layers.Conv2D(filters=32, kernel_size=3, padding=\"same\", activation=\"relu\", input_shape=[48, 48, 3]))\n",
        "\n",
        "# Step 2 - Pooling\n",
        "cnn.add(tf.keras.layers.MaxPool2D(pool_size=2, strides=2, padding='valid'))\n",
        "\n",
        "# Adding a second convolutional layer\n",
        "cnn.add(tf.keras.layers.Conv2D(filters=32, kernel_size=3, padding=\"same\", activation=\"relu\"))\n",
        "cnn.add(tf.keras.layers.MaxPool2D(pool_size=2, strides=2, padding='valid'))\n",
        "\n",
        "# Step 3 - Flattening\n",
        "cnn.add(tf.keras.layers.Flatten())\n",
        "\n",
        "# Step 4 - Full Connection\n",
        "cnn.add(tf.keras.layers.Dense(units=150, activation='relu'))\n",
        "cnn.add(Dropout(0.2))\n",
        "cnn.add(tf.keras.layers.Dense(units=150, activation='relu'))\n",
        "cnn.add(Dropout(0.2))\n",
        "\n",
        "\n",
        "# Step 5 - Output Layer\n",
        "cnn.add(tf.keras.layers.Dense(units=4, activation='softmax'))\n",
        "\n",
        "# Part 3 - Training the CNN\n",
        "\n",
        "# Compiling the CNN\n",
        "optimizer = tf.keras.optimizers.SGD(learning_rate=0.0001)\n",
        "cnn.compile(optimizer = optimizer, loss = 'categorical_crossentropy', metrics = ['accuracy'])\n",
        "\n",
        "# Training the CNN on the Training set and evaluating it on the Test set\n",
        "history=cnn.fit(X_train,y_train,\n",
        "                  steps_per_epoch = 20,\n",
        "                  epochs = 25)\n",
        "# Predicting the Test set results\n",
        "accuracy=cnn.evaluate(X_test,y_test)[1]\n",
        "print(accuracy)"
      ],
      "metadata": {
        "id": "z4QT5vuszquV",
        "colab": {
          "base_uri": "https://localhost:8080/"
        },
        "outputId": "e1423492-aff2-495b-e9ce-d2337758cb28"
      },
      "execution_count": 26,
      "outputs": [
        {
          "output_type": "stream",
          "name": "stdout",
          "text": [
            "Epoch 1/25\n",
            "20/20 [==============================] - 1s 24ms/step - loss: 3.2257 - accuracy: 0.6290\n",
            "Epoch 2/25\n",
            "20/20 [==============================] - 0s 20ms/step - loss: 1.5331 - accuracy: 0.7216\n",
            "Epoch 3/25\n",
            "20/20 [==============================] - 0s 20ms/step - loss: 1.2176 - accuracy: 0.7529\n",
            "Epoch 4/25\n",
            "20/20 [==============================] - 0s 20ms/step - loss: 1.0275 - accuracy: 0.7609\n",
            "Epoch 5/25\n",
            "20/20 [==============================] - 0s 20ms/step - loss: 0.8890 - accuracy: 0.7729\n",
            "Epoch 6/25\n",
            "20/20 [==============================] - 0s 20ms/step - loss: 0.7800 - accuracy: 0.7886\n",
            "Epoch 7/25\n",
            "20/20 [==============================] - 0s 20ms/step - loss: 0.7306 - accuracy: 0.7953\n",
            "Epoch 8/25\n",
            "20/20 [==============================] - 0s 20ms/step - loss: 0.6732 - accuracy: 0.8039\n",
            "Epoch 9/25\n",
            "20/20 [==============================] - 0s 20ms/step - loss: 0.5993 - accuracy: 0.8095\n",
            "Epoch 10/25\n",
            "20/20 [==============================] - 0s 20ms/step - loss: 0.5384 - accuracy: 0.8212\n",
            "Epoch 11/25\n",
            "20/20 [==============================] - 0s 20ms/step - loss: 0.5255 - accuracy: 0.8234\n",
            "Epoch 12/25\n",
            "20/20 [==============================] - 0s 20ms/step - loss: 0.5379 - accuracy: 0.8243\n",
            "Epoch 13/25\n",
            "20/20 [==============================] - 0s 20ms/step - loss: 0.5089 - accuracy: 0.8315\n",
            "Epoch 14/25\n",
            "20/20 [==============================] - 0s 20ms/step - loss: 0.4653 - accuracy: 0.8410\n",
            "Epoch 15/25\n",
            "20/20 [==============================] - 0s 20ms/step - loss: 0.4803 - accuracy: 0.8371\n",
            "Epoch 16/25\n",
            "20/20 [==============================] - 0s 20ms/step - loss: 0.4537 - accuracy: 0.8432\n",
            "Epoch 17/25\n",
            "20/20 [==============================] - 0s 20ms/step - loss: 0.4167 - accuracy: 0.8513\n",
            "Epoch 18/25\n",
            "20/20 [==============================] - 0s 20ms/step - loss: 0.4285 - accuracy: 0.8455\n",
            "Epoch 19/25\n",
            "20/20 [==============================] - 0s 20ms/step - loss: 0.4241 - accuracy: 0.8499\n",
            "Epoch 20/25\n",
            "20/20 [==============================] - 0s 20ms/step - loss: 0.3674 - accuracy: 0.8695\n",
            "Epoch 21/25\n",
            "20/20 [==============================] - 0s 20ms/step - loss: 0.3825 - accuracy: 0.8600\n",
            "Epoch 22/25\n",
            "20/20 [==============================] - 0s 20ms/step - loss: 0.4046 - accuracy: 0.8536\n",
            "Epoch 23/25\n",
            "20/20 [==============================] - 0s 20ms/step - loss: 0.3365 - accuracy: 0.8720\n",
            "Epoch 24/25\n",
            "20/20 [==============================] - 0s 20ms/step - loss: 0.3559 - accuracy: 0.8672\n",
            "Epoch 25/25\n",
            "20/20 [==============================] - 0s 20ms/step - loss: 0.3605 - accuracy: 0.8675\n",
            "29/29 [==============================] - 0s 5ms/step - loss: 0.1961 - accuracy: 0.9064\n",
            "0.9063544869422913\n"
          ]
        }
      ]
    },
    {
      "cell_type": "code",
      "source": [
        "import matplotlib.pyplot as plt\n",
        "loss_train = history.history['loss']\n",
        "Iteration = range(1,26)\n",
        "plt.plot(Iteration, loss_train, 'g', label='Training loss')\n",
        "plt.xlabel('Iteration')\n",
        "plt.ylabel('Loss')\n",
        "plt.legend()\n",
        "plt.show()"
      ],
      "metadata": {
        "colab": {
          "base_uri": "https://localhost:8080/",
          "height": 279
        },
        "id": "-hsrH5Nb4UQS",
        "outputId": "196d7ed9-1633-4093-8591-bd7943c28cbe"
      },
      "execution_count": 27,
      "outputs": [
        {
          "output_type": "display_data",
          "data": {
            "image/png": "[encoded data removed]",
            "text/plain": [
              "<Figure size 432x288 with 1 Axes>"
            ]
          },
          "metadata": {
            "needs_background": "light"
          }
        }
      ]
    }
  ]
}